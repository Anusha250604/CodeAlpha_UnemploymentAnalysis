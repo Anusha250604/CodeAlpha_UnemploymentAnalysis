{
 "cells": [
  {
   "cell_type": "code",
   "execution_count": 45,
   "id": "66e4268b",
   "metadata": {},
   "outputs": [],
   "source": [
    "import numpy as np\n",
    "import pandas as pd\n",
    "import matplotlib.pyplot as plt\n",
    "import seaborn as sns\n",
    "from sklearn.preprocessing import LabelEncoder,MinMaxScaler,StandardScaler\n",
    "from sklearn.model_selection import train_test_split\n",
    "from sklearn.metrics import confusion_matrix, classification_report, accuracy_score\n",
    "from sklearn.feature_extraction.text import TfidfVectorizer\n",
    "from sklearn.linear_model import LogisticRegression\n",
    "from sklearn.tree import DecisionTreeClassifier\n",
    "from sklearn.naive_bayes import MultinomialNB\n",
    "from sklearn.svm import SVC\n",
    "import re\n",
    "import string\n",
    "import warnings\n",
    "warnings.filterwarnings('ignore')"
   ]
  },
  {
   "cell_type": "code",
   "execution_count": 46,
   "id": "bab8b8c5",
   "metadata": {},
   "outputs": [],
   "source": [
    "def Vsualize(column_name,data):\n",
    "    \n",
    "    values = data[column_name].value_counts().values.round(2)\n",
    "    index = data[column_name].value_counts().index\n",
    "    \n",
    "    color = sns.color_palette('RdBu')\n",
    "    plt.figure(figsize=(9,5))\n",
    "    # pie chart of column\n",
    "    plt.subplot(1, 2, 1)\n",
    "    plt.title(f'Distribution of {column_name}')\n",
    "    plt.pie(values, labels=index,autopct='%1.1f%%',colors=color)\n",
    "    \n",
    "    # Distribution of column\n",
    "    plt.subplot(1, 2, 2)\n",
    "    sns.histplot(data[column_name])\n",
    "    plt.ylabel(f'Number of {column_name}')\n",
    "    plt.xticks(rotation = 90)\n",
    "    plt.tight_layout()\n",
    "    plt.show()"
   ]
  },
  {
   "cell_type": "code",
   "execution_count": 47,
   "id": "19baf2bb",
   "metadata": {},
   "outputs": [],
   "source": [
    "path = r'D:\\internship\\codealpha\\Unemployment in India.csv'\n",
    "data = pd.read_csv(path)"
   ]
  },
  {
   "cell_type": "code",
   "execution_count": 48,
   "id": "917ea386",
   "metadata": {},
   "outputs": [
    {
     "data": {
      "application/vnd.microsoft.datawrangler.viewer.v0+json": {
       "columns": [
        {
         "name": "index",
         "rawType": "int64",
         "type": "integer"
        },
        {
         "name": "Region",
         "rawType": "object",
         "type": "string"
        },
        {
         "name": " Date",
         "rawType": "object",
         "type": "string"
        },
        {
         "name": " Frequency",
         "rawType": "object",
         "type": "string"
        },
        {
         "name": " Estimated Unemployment Rate (%)",
         "rawType": "float64",
         "type": "float"
        },
        {
         "name": " Estimated Employed",
         "rawType": "float64",
         "type": "float"
        },
        {
         "name": " Estimated Labour Participation Rate (%)",
         "rawType": "float64",
         "type": "float"
        },
        {
         "name": "Area",
         "rawType": "object",
         "type": "string"
        }
       ],
       "ref": "52890f58-7db8-45d9-9990-685ff2602a45",
       "rows": [
        [
         "163",
         "Kerala",
         " 31-07-2019",
         " Monthly",
         "4.95",
         "4855393.0",
         "34.96",
         "Rural"
        ],
        [
         "160",
         "Karnataka",
         " 30-06-2020",
         " Monthly",
         "10.92",
         "15396213.0",
         "53.37",
         "Rural"
        ],
        [
         "270",
         "Rajasthan",
         " 30-06-2020",
         " Monthly",
         "13.86",
         "16076978.0",
         "43.98",
         "Rural"
        ],
        [
         "173",
         "Kerala",
         " 31-05-2020",
         " Monthly",
         "23.38",
         "3799919.0",
         "33.62",
         "Rural"
        ],
        [
         "120",
         "Himachal Pradesh",
         " 31-05-2020",
         " Monthly",
         "25.64",
         "1732050.0",
         "42.62",
         "Rural"
        ],
        [
         "124",
         "Jammu & Kashmir",
         " 31-07-2019",
         " Monthly",
         "13.67",
         "2549316.0",
         "41.71",
         "Rural"
        ],
        [
         "383",
         "Andhra Pradesh",
         " 31-03-2020",
         "Monthly",
         "9.88",
         "4521537.0",
         "36.08",
         "Urban"
        ],
        [
         "145",
         "Jharkhand",
         " 31-05-2020",
         " Monthly",
         "55.1",
         "3315038.0",
         "37.03",
         "Rural"
        ],
        [
         "695",
         "Telangana",
         " 30-04-2020",
         "Monthly",
         "10.5",
         "3378431.0",
         "29.05",
         "Urban"
        ],
        [
         "0",
         "Andhra Pradesh",
         " 31-05-2019",
         " Monthly",
         "3.65",
         "11999139.0",
         "43.24",
         "Rural"
        ]
       ],
       "shape": {
        "columns": 7,
        "rows": 10
       }
      },
      "text/html": [
       "<div>\n",
       "<style scoped>\n",
       "    .dataframe tbody tr th:only-of-type {\n",
       "        vertical-align: middle;\n",
       "    }\n",
       "\n",
       "    .dataframe tbody tr th {\n",
       "        vertical-align: top;\n",
       "    }\n",
       "\n",
       "    .dataframe thead th {\n",
       "        text-align: right;\n",
       "    }\n",
       "</style>\n",
       "<table border=\"1\" class=\"dataframe\">\n",
       "  <thead>\n",
       "    <tr style=\"text-align: right;\">\n",
       "      <th></th>\n",
       "      <th>Region</th>\n",
       "      <th>Date</th>\n",
       "      <th>Frequency</th>\n",
       "      <th>Estimated Unemployment Rate (%)</th>\n",
       "      <th>Estimated Employed</th>\n",
       "      <th>Estimated Labour Participation Rate (%)</th>\n",
       "      <th>Area</th>\n",
       "    </tr>\n",
       "  </thead>\n",
       "  <tbody>\n",
       "    <tr>\n",
       "      <th>163</th>\n",
       "      <td>Kerala</td>\n",
       "      <td>31-07-2019</td>\n",
       "      <td>Monthly</td>\n",
       "      <td>4.95</td>\n",
       "      <td>4855393.0</td>\n",
       "      <td>34.96</td>\n",
       "      <td>Rural</td>\n",
       "    </tr>\n",
       "    <tr>\n",
       "      <th>160</th>\n",
       "      <td>Karnataka</td>\n",
       "      <td>30-06-2020</td>\n",
       "      <td>Monthly</td>\n",
       "      <td>10.92</td>\n",
       "      <td>15396213.0</td>\n",
       "      <td>53.37</td>\n",
       "      <td>Rural</td>\n",
       "    </tr>\n",
       "    <tr>\n",
       "      <th>270</th>\n",
       "      <td>Rajasthan</td>\n",
       "      <td>30-06-2020</td>\n",
       "      <td>Monthly</td>\n",
       "      <td>13.86</td>\n",
       "      <td>16076978.0</td>\n",
       "      <td>43.98</td>\n",
       "      <td>Rural</td>\n",
       "    </tr>\n",
       "    <tr>\n",
       "      <th>173</th>\n",
       "      <td>Kerala</td>\n",
       "      <td>31-05-2020</td>\n",
       "      <td>Monthly</td>\n",
       "      <td>23.38</td>\n",
       "      <td>3799919.0</td>\n",
       "      <td>33.62</td>\n",
       "      <td>Rural</td>\n",
       "    </tr>\n",
       "    <tr>\n",
       "      <th>120</th>\n",
       "      <td>Himachal Pradesh</td>\n",
       "      <td>31-05-2020</td>\n",
       "      <td>Monthly</td>\n",
       "      <td>25.64</td>\n",
       "      <td>1732050.0</td>\n",
       "      <td>42.62</td>\n",
       "      <td>Rural</td>\n",
       "    </tr>\n",
       "    <tr>\n",
       "      <th>124</th>\n",
       "      <td>Jammu &amp; Kashmir</td>\n",
       "      <td>31-07-2019</td>\n",
       "      <td>Monthly</td>\n",
       "      <td>13.67</td>\n",
       "      <td>2549316.0</td>\n",
       "      <td>41.71</td>\n",
       "      <td>Rural</td>\n",
       "    </tr>\n",
       "    <tr>\n",
       "      <th>383</th>\n",
       "      <td>Andhra Pradesh</td>\n",
       "      <td>31-03-2020</td>\n",
       "      <td>Monthly</td>\n",
       "      <td>9.88</td>\n",
       "      <td>4521537.0</td>\n",
       "      <td>36.08</td>\n",
       "      <td>Urban</td>\n",
       "    </tr>\n",
       "    <tr>\n",
       "      <th>145</th>\n",
       "      <td>Jharkhand</td>\n",
       "      <td>31-05-2020</td>\n",
       "      <td>Monthly</td>\n",
       "      <td>55.10</td>\n",
       "      <td>3315038.0</td>\n",
       "      <td>37.03</td>\n",
       "      <td>Rural</td>\n",
       "    </tr>\n",
       "    <tr>\n",
       "      <th>695</th>\n",
       "      <td>Telangana</td>\n",
       "      <td>30-04-2020</td>\n",
       "      <td>Monthly</td>\n",
       "      <td>10.50</td>\n",
       "      <td>3378431.0</td>\n",
       "      <td>29.05</td>\n",
       "      <td>Urban</td>\n",
       "    </tr>\n",
       "    <tr>\n",
       "      <th>0</th>\n",
       "      <td>Andhra Pradesh</td>\n",
       "      <td>31-05-2019</td>\n",
       "      <td>Monthly</td>\n",
       "      <td>3.65</td>\n",
       "      <td>11999139.0</td>\n",
       "      <td>43.24</td>\n",
       "      <td>Rural</td>\n",
       "    </tr>\n",
       "  </tbody>\n",
       "</table>\n",
       "</div>"
      ],
      "text/plain": [
       "               Region         Date  Frequency  \\\n",
       "163            Kerala   31-07-2019    Monthly   \n",
       "160         Karnataka   30-06-2020    Monthly   \n",
       "270         Rajasthan   30-06-2020    Monthly   \n",
       "173            Kerala   31-05-2020    Monthly   \n",
       "120  Himachal Pradesh   31-05-2020    Monthly   \n",
       "124   Jammu & Kashmir   31-07-2019    Monthly   \n",
       "383    Andhra Pradesh   31-03-2020    Monthly   \n",
       "145         Jharkhand   31-05-2020    Monthly   \n",
       "695         Telangana   30-04-2020    Monthly   \n",
       "0      Andhra Pradesh   31-05-2019    Monthly   \n",
       "\n",
       "      Estimated Unemployment Rate (%)   Estimated Employed  \\\n",
       "163                              4.95            4855393.0   \n",
       "160                             10.92           15396213.0   \n",
       "270                             13.86           16076978.0   \n",
       "173                             23.38            3799919.0   \n",
       "120                             25.64            1732050.0   \n",
       "124                             13.67            2549316.0   \n",
       "383                              9.88            4521537.0   \n",
       "145                             55.10            3315038.0   \n",
       "695                             10.50            3378431.0   \n",
       "0                                3.65           11999139.0   \n",
       "\n",
       "      Estimated Labour Participation Rate (%)   Area  \n",
       "163                                     34.96  Rural  \n",
       "160                                     53.37  Rural  \n",
       "270                                     43.98  Rural  \n",
       "173                                     33.62  Rural  \n",
       "120                                     42.62  Rural  \n",
       "124                                     41.71  Rural  \n",
       "383                                     36.08  Urban  \n",
       "145                                     37.03  Rural  \n",
       "695                                     29.05  Urban  \n",
       "0                                       43.24  Rural  "
      ]
     },
     "execution_count": 48,
     "metadata": {},
     "output_type": "execute_result"
    }
   ],
   "source": [
    "data.sample(10)"
   ]
  },
  {
   "cell_type": "code",
   "execution_count": 49,
   "id": "549fae47",
   "metadata": {},
   "outputs": [
    {
     "data": {
      "text/plain": [
       "(768, 7)"
      ]
     },
     "execution_count": 49,
     "metadata": {},
     "output_type": "execute_result"
    }
   ],
   "source": [
    "data.shape"
   ]
  },
  {
   "cell_type": "code",
   "execution_count": 50,
   "id": "235f2c4b",
   "metadata": {},
   "outputs": [
    {
     "name": "stdout",
     "output_type": "stream",
     "text": [
      "<class 'pandas.core.frame.DataFrame'>\n",
      "RangeIndex: 768 entries, 0 to 767\n",
      "Data columns (total 7 columns):\n",
      " #   Column                                    Non-Null Count  Dtype  \n",
      "---  ------                                    --------------  -----  \n",
      " 0   Region                                    740 non-null    object \n",
      " 1    Date                                     740 non-null    object \n",
      " 2    Frequency                                740 non-null    object \n",
      " 3    Estimated Unemployment Rate (%)          740 non-null    float64\n",
      " 4    Estimated Employed                       740 non-null    float64\n",
      " 5    Estimated Labour Participation Rate (%)  740 non-null    float64\n",
      " 6   Area                                      740 non-null    object \n",
      "dtypes: float64(3), object(4)\n",
      "memory usage: 42.1+ KB\n"
     ]
    }
   ],
   "source": [
    "data.info()"
   ]
  },
  {
   "cell_type": "code",
   "execution_count": 51,
   "id": "19a508aa",
   "metadata": {},
   "outputs": [
    {
     "data": {
      "application/vnd.microsoft.datawrangler.viewer.v0+json": {
       "columns": [
        {
         "name": "index",
         "rawType": "int64",
         "type": "integer"
        },
        {
         "name": "Date",
         "rawType": "datetime64[ns]",
         "type": "datetime"
        }
       ],
       "ref": "6d42dcee-d010-441a-8e16-2efef5d8df1f",
       "rows": [
        [
         "0",
         "2019-05-31 00:00:00"
        ],
        [
         "1",
         "2019-06-30 00:00:00"
        ],
        [
         "2",
         "2019-07-31 00:00:00"
        ],
        [
         "3",
         "2019-08-31 00:00:00"
        ],
        [
         "4",
         "2019-09-30 00:00:00"
        ]
       ],
       "shape": {
        "columns": 1,
        "rows": 5
       }
      },
      "text/plain": [
       "0   2019-05-31\n",
       "1   2019-06-30\n",
       "2   2019-07-31\n",
       "3   2019-08-31\n",
       "4   2019-09-30\n",
       "Name: Date, dtype: datetime64[ns]"
      ]
     },
     "execution_count": 51,
     "metadata": {},
     "output_type": "execute_result"
    }
   ],
   "source": [
    "data['Date'] = pd.to_datetime(data[' Date'])\n",
    "data.drop(' Date',axis = 1,inplace = True)\n",
    "data['Date'].head()"
   ]
  },
  {
   "cell_type": "code",
   "execution_count": 52,
   "id": "ebbf0ec4",
   "metadata": {},
   "outputs": [
    {
     "data": {
      "application/vnd.microsoft.datawrangler.viewer.v0+json": {
       "columns": [
        {
         "name": "index",
         "rawType": "object",
         "type": "string"
        },
        {
         "name": "0",
         "rawType": "int64",
         "type": "integer"
        }
       ],
       "ref": "718a8c5d-a1be-4a49-865f-8237d87940ed",
       "rows": [
        [
         "Region",
         "28"
        ],
        [
         " Frequency",
         "28"
        ],
        [
         " Estimated Unemployment Rate (%)",
         "28"
        ],
        [
         " Estimated Employed",
         "28"
        ],
        [
         " Estimated Labour Participation Rate (%)",
         "28"
        ],
        [
         "Area",
         "28"
        ],
        [
         "Date",
         "28"
        ]
       ],
       "shape": {
        "columns": 1,
        "rows": 7
       }
      },
      "text/plain": [
       "Region                                      28\n",
       " Frequency                                  28\n",
       " Estimated Unemployment Rate (%)            28\n",
       " Estimated Employed                         28\n",
       " Estimated Labour Participation Rate (%)    28\n",
       "Area                                        28\n",
       "Date                                        28\n",
       "dtype: int64"
      ]
     },
     "execution_count": 52,
     "metadata": {},
     "output_type": "execute_result"
    }
   ],
   "source": [
    "data.isnull().sum()"
   ]
  },
  {
   "cell_type": "code",
   "execution_count": 53,
   "id": "fb6485e5",
   "metadata": {},
   "outputs": [
    {
     "data": {
      "text/plain": [
       "27"
      ]
     },
     "execution_count": 53,
     "metadata": {},
     "output_type": "execute_result"
    }
   ],
   "source": [
    "data.duplicated().sum()"
   ]
  },
  {
   "cell_type": "code",
   "execution_count": 54,
   "id": "bd1c6265",
   "metadata": {},
   "outputs": [
    {
     "data": {
      "application/vnd.microsoft.datawrangler.viewer.v0+json": {
       "columns": [
        {
         "name": "index",
         "rawType": "int64",
         "type": "integer"
        },
        {
         "name": "Region",
         "rawType": "object",
         "type": "unknown"
        }
       ],
       "ref": "3e083d88-b09d-4061-b05c-49d7c40093f4",
       "rows": [
        [
         "0",
         "Andhra Pradesh"
        ],
        [
         "1",
         "Andhra Pradesh"
        ],
        [
         "2",
         "Andhra Pradesh"
        ],
        [
         "3",
         "Andhra Pradesh"
        ],
        [
         "4",
         "Andhra Pradesh"
        ],
        [
         "5",
         "Andhra Pradesh"
        ],
        [
         "6",
         "Andhra Pradesh"
        ],
        [
         "7",
         "Andhra Pradesh"
        ],
        [
         "8",
         "Andhra Pradesh"
        ],
        [
         "9",
         "Andhra Pradesh"
        ],
        [
         "10",
         "Andhra Pradesh"
        ],
        [
         "11",
         "Andhra Pradesh"
        ],
        [
         "12",
         "Andhra Pradesh"
        ],
        [
         "13",
         "Andhra Pradesh"
        ],
        [
         "14",
         "Assam"
        ],
        [
         "15",
         "Assam"
        ],
        [
         "16",
         "Assam"
        ],
        [
         "17",
         "Assam"
        ],
        [
         "18",
         "Assam"
        ],
        [
         "19",
         "Assam"
        ],
        [
         "20",
         "Assam"
        ],
        [
         "21",
         "Assam"
        ],
        [
         "22",
         "Assam"
        ],
        [
         "23",
         "Assam"
        ],
        [
         "24",
         "Assam"
        ],
        [
         "25",
         "Assam"
        ],
        [
         "26",
         "Bihar"
        ],
        [
         "27",
         "Bihar"
        ],
        [
         "28",
         "Bihar"
        ],
        [
         "29",
         "Bihar"
        ],
        [
         "30",
         "Bihar"
        ],
        [
         "31",
         "Bihar"
        ],
        [
         "32",
         "Bihar"
        ],
        [
         "33",
         "Bihar"
        ],
        [
         "34",
         "Bihar"
        ],
        [
         "35",
         "Bihar"
        ],
        [
         "36",
         "Bihar"
        ],
        [
         "37",
         "Bihar"
        ],
        [
         "38",
         "Bihar"
        ],
        [
         "39",
         "Bihar"
        ],
        [
         "40",
         "Chhattisgarh"
        ],
        [
         "41",
         "Chhattisgarh"
        ],
        [
         "42",
         "Chhattisgarh"
        ],
        [
         "43",
         "Chhattisgarh"
        ],
        [
         "44",
         "Chhattisgarh"
        ],
        [
         "45",
         "Chhattisgarh"
        ],
        [
         "46",
         "Chhattisgarh"
        ],
        [
         "47",
         "Chhattisgarh"
        ],
        [
         "48",
         "Chhattisgarh"
        ],
        [
         "49",
         "Chhattisgarh"
        ]
       ],
       "shape": {
        "columns": 1,
        "rows": 768
       }
      },
      "text/html": [
       "<div>\n",
       "<style scoped>\n",
       "    .dataframe tbody tr th:only-of-type {\n",
       "        vertical-align: middle;\n",
       "    }\n",
       "\n",
       "    .dataframe tbody tr th {\n",
       "        vertical-align: top;\n",
       "    }\n",
       "\n",
       "    .dataframe thead th {\n",
       "        text-align: right;\n",
       "    }\n",
       "</style>\n",
       "<table border=\"1\" class=\"dataframe\">\n",
       "  <thead>\n",
       "    <tr style=\"text-align: right;\">\n",
       "      <th></th>\n",
       "      <th>Region</th>\n",
       "    </tr>\n",
       "  </thead>\n",
       "  <tbody>\n",
       "    <tr>\n",
       "      <th>0</th>\n",
       "      <td>Andhra Pradesh</td>\n",
       "    </tr>\n",
       "    <tr>\n",
       "      <th>1</th>\n",
       "      <td>Andhra Pradesh</td>\n",
       "    </tr>\n",
       "    <tr>\n",
       "      <th>2</th>\n",
       "      <td>Andhra Pradesh</td>\n",
       "    </tr>\n",
       "    <tr>\n",
       "      <th>3</th>\n",
       "      <td>Andhra Pradesh</td>\n",
       "    </tr>\n",
       "    <tr>\n",
       "      <th>4</th>\n",
       "      <td>Andhra Pradesh</td>\n",
       "    </tr>\n",
       "    <tr>\n",
       "      <th>...</th>\n",
       "      <td>...</td>\n",
       "    </tr>\n",
       "    <tr>\n",
       "      <th>763</th>\n",
       "      <td>NaN</td>\n",
       "    </tr>\n",
       "    <tr>\n",
       "      <th>764</th>\n",
       "      <td>NaN</td>\n",
       "    </tr>\n",
       "    <tr>\n",
       "      <th>765</th>\n",
       "      <td>NaN</td>\n",
       "    </tr>\n",
       "    <tr>\n",
       "      <th>766</th>\n",
       "      <td>NaN</td>\n",
       "    </tr>\n",
       "    <tr>\n",
       "      <th>767</th>\n",
       "      <td>NaN</td>\n",
       "    </tr>\n",
       "  </tbody>\n",
       "</table>\n",
       "<p>768 rows × 1 columns</p>\n",
       "</div>"
      ],
      "text/plain": [
       "             Region\n",
       "0    Andhra Pradesh\n",
       "1    Andhra Pradesh\n",
       "2    Andhra Pradesh\n",
       "3    Andhra Pradesh\n",
       "4    Andhra Pradesh\n",
       "..              ...\n",
       "763             NaN\n",
       "764             NaN\n",
       "765             NaN\n",
       "766             NaN\n",
       "767             NaN\n",
       "\n",
       "[768 rows x 1 columns]"
      ]
     },
     "execution_count": 54,
     "metadata": {},
     "output_type": "execute_result"
    }
   ],
   "source": [
    "data[['Region']]"
   ]
  },
  {
   "cell_type": "code",
   "execution_count": 55,
   "id": "ba1d30aa",
   "metadata": {},
   "outputs": [
    {
     "data": {
      "application/vnd.microsoft.datawrangler.viewer.v0+json": {
       "columns": [
        {
         "name": "index",
         "rawType": "object",
         "type": "string"
        },
        {
         "name": "0",
         "rawType": "int64",
         "type": "integer"
        }
       ],
       "ref": "f928ece9-030c-4970-a6b0-f7f0203a3575",
       "rows": [
        [
         "Region",
         "28"
        ],
        [
         " Frequency",
         "2"
        ],
        [
         " Estimated Unemployment Rate (%)",
         "624"
        ],
        [
         " Estimated Employed",
         "740"
        ],
        [
         " Estimated Labour Participation Rate (%)",
         "626"
        ],
        [
         "Area",
         "2"
        ],
        [
         "Date",
         "14"
        ]
       ],
       "shape": {
        "columns": 1,
        "rows": 7
       }
      },
      "text/plain": [
       "Region                                       28\n",
       " Frequency                                    2\n",
       " Estimated Unemployment Rate (%)            624\n",
       " Estimated Employed                         740\n",
       " Estimated Labour Participation Rate (%)    626\n",
       "Area                                          2\n",
       "Date                                         14\n",
       "dtype: int64"
      ]
     },
     "execution_count": 55,
     "metadata": {},
     "output_type": "execute_result"
    }
   ],
   "source": [
    "data.nunique()"
   ]
  },
  {
   "cell_type": "code",
   "execution_count": 56,
   "id": "7c19a216",
   "metadata": {},
   "outputs": [
    {
     "data": {
      "application/vnd.microsoft.datawrangler.viewer.v0+json": {
       "columns": [
        {
         "name": "index",
         "rawType": "int64",
         "type": "integer"
        },
        {
         "name": "Region",
         "rawType": "object",
         "type": "unknown"
        },
        {
         "name": " Frequency",
         "rawType": "object",
         "type": "unknown"
        },
        {
         "name": "Area",
         "rawType": "object",
         "type": "unknown"
        }
       ],
       "ref": "53fb7213-f455-410d-a50d-1a222ad7124e",
       "rows": [
        [
         "0",
         "Andhra Pradesh",
         " Monthly",
         "Rural"
        ],
        [
         "1",
         "Andhra Pradesh",
         " Monthly",
         "Rural"
        ],
        [
         "2",
         "Andhra Pradesh",
         " Monthly",
         "Rural"
        ],
        [
         "3",
         "Andhra Pradesh",
         " Monthly",
         "Rural"
        ],
        [
         "4",
         "Andhra Pradesh",
         " Monthly",
         "Rural"
        ],
        [
         "5",
         "Andhra Pradesh",
         " Monthly",
         "Rural"
        ],
        [
         "6",
         "Andhra Pradesh",
         " Monthly",
         "Rural"
        ],
        [
         "7",
         "Andhra Pradesh",
         " Monthly",
         "Rural"
        ],
        [
         "8",
         "Andhra Pradesh",
         " Monthly",
         "Rural"
        ],
        [
         "9",
         "Andhra Pradesh",
         " Monthly",
         "Rural"
        ],
        [
         "10",
         "Andhra Pradesh",
         " Monthly",
         "Rural"
        ],
        [
         "11",
         "Andhra Pradesh",
         " Monthly",
         "Rural"
        ],
        [
         "12",
         "Andhra Pradesh",
         " Monthly",
         "Rural"
        ],
        [
         "13",
         "Andhra Pradesh",
         " Monthly",
         "Rural"
        ],
        [
         "14",
         "Assam",
         " Monthly",
         "Rural"
        ],
        [
         "15",
         "Assam",
         " Monthly",
         "Rural"
        ],
        [
         "16",
         "Assam",
         " Monthly",
         "Rural"
        ],
        [
         "17",
         "Assam",
         " Monthly",
         "Rural"
        ],
        [
         "18",
         "Assam",
         " Monthly",
         "Rural"
        ],
        [
         "19",
         "Assam",
         " Monthly",
         "Rural"
        ],
        [
         "20",
         "Assam",
         " Monthly",
         "Rural"
        ],
        [
         "21",
         "Assam",
         " Monthly",
         "Rural"
        ],
        [
         "22",
         "Assam",
         " Monthly",
         "Rural"
        ],
        [
         "23",
         "Assam",
         " Monthly",
         "Rural"
        ],
        [
         "24",
         "Assam",
         " Monthly",
         "Rural"
        ],
        [
         "25",
         "Assam",
         " Monthly",
         "Rural"
        ],
        [
         "26",
         "Bihar",
         " Monthly",
         "Rural"
        ],
        [
         "27",
         "Bihar",
         " Monthly",
         "Rural"
        ],
        [
         "28",
         "Bihar",
         " Monthly",
         "Rural"
        ],
        [
         "29",
         "Bihar",
         " Monthly",
         "Rural"
        ],
        [
         "30",
         "Bihar",
         " Monthly",
         "Rural"
        ],
        [
         "31",
         "Bihar",
         " Monthly",
         "Rural"
        ],
        [
         "32",
         "Bihar",
         " Monthly",
         "Rural"
        ],
        [
         "33",
         "Bihar",
         " Monthly",
         "Rural"
        ],
        [
         "34",
         "Bihar",
         " Monthly",
         "Rural"
        ],
        [
         "35",
         "Bihar",
         " Monthly",
         "Rural"
        ],
        [
         "36",
         "Bihar",
         " Monthly",
         "Rural"
        ],
        [
         "37",
         "Bihar",
         " Monthly",
         "Rural"
        ],
        [
         "38",
         "Bihar",
         " Monthly",
         "Rural"
        ],
        [
         "39",
         "Bihar",
         " Monthly",
         "Rural"
        ],
        [
         "40",
         "Chhattisgarh",
         " Monthly",
         "Rural"
        ],
        [
         "41",
         "Chhattisgarh",
         " Monthly",
         "Rural"
        ],
        [
         "42",
         "Chhattisgarh",
         " Monthly",
         "Rural"
        ],
        [
         "43",
         "Chhattisgarh",
         " Monthly",
         "Rural"
        ],
        [
         "44",
         "Chhattisgarh",
         " Monthly",
         "Rural"
        ],
        [
         "45",
         "Chhattisgarh",
         " Monthly",
         "Rural"
        ],
        [
         "46",
         "Chhattisgarh",
         " Monthly",
         "Rural"
        ],
        [
         "47",
         "Chhattisgarh",
         " Monthly",
         "Rural"
        ],
        [
         "48",
         "Chhattisgarh",
         " Monthly",
         "Rural"
        ],
        [
         "49",
         "Chhattisgarh",
         " Monthly",
         "Rural"
        ]
       ],
       "shape": {
        "columns": 3,
        "rows": 768
       }
      },
      "text/html": [
       "<div>\n",
       "<style scoped>\n",
       "    .dataframe tbody tr th:only-of-type {\n",
       "        vertical-align: middle;\n",
       "    }\n",
       "\n",
       "    .dataframe tbody tr th {\n",
       "        vertical-align: top;\n",
       "    }\n",
       "\n",
       "    .dataframe thead th {\n",
       "        text-align: right;\n",
       "    }\n",
       "</style>\n",
       "<table border=\"1\" class=\"dataframe\">\n",
       "  <thead>\n",
       "    <tr style=\"text-align: right;\">\n",
       "      <th></th>\n",
       "      <th>Region</th>\n",
       "      <th>Frequency</th>\n",
       "      <th>Area</th>\n",
       "    </tr>\n",
       "  </thead>\n",
       "  <tbody>\n",
       "    <tr>\n",
       "      <th>0</th>\n",
       "      <td>Andhra Pradesh</td>\n",
       "      <td>Monthly</td>\n",
       "      <td>Rural</td>\n",
       "    </tr>\n",
       "    <tr>\n",
       "      <th>1</th>\n",
       "      <td>Andhra Pradesh</td>\n",
       "      <td>Monthly</td>\n",
       "      <td>Rural</td>\n",
       "    </tr>\n",
       "    <tr>\n",
       "      <th>2</th>\n",
       "      <td>Andhra Pradesh</td>\n",
       "      <td>Monthly</td>\n",
       "      <td>Rural</td>\n",
       "    </tr>\n",
       "    <tr>\n",
       "      <th>3</th>\n",
       "      <td>Andhra Pradesh</td>\n",
       "      <td>Monthly</td>\n",
       "      <td>Rural</td>\n",
       "    </tr>\n",
       "    <tr>\n",
       "      <th>4</th>\n",
       "      <td>Andhra Pradesh</td>\n",
       "      <td>Monthly</td>\n",
       "      <td>Rural</td>\n",
       "    </tr>\n",
       "    <tr>\n",
       "      <th>...</th>\n",
       "      <td>...</td>\n",
       "      <td>...</td>\n",
       "      <td>...</td>\n",
       "    </tr>\n",
       "    <tr>\n",
       "      <th>763</th>\n",
       "      <td>NaN</td>\n",
       "      <td>NaN</td>\n",
       "      <td>NaN</td>\n",
       "    </tr>\n",
       "    <tr>\n",
       "      <th>764</th>\n",
       "      <td>NaN</td>\n",
       "      <td>NaN</td>\n",
       "      <td>NaN</td>\n",
       "    </tr>\n",
       "    <tr>\n",
       "      <th>765</th>\n",
       "      <td>NaN</td>\n",
       "      <td>NaN</td>\n",
       "      <td>NaN</td>\n",
       "    </tr>\n",
       "    <tr>\n",
       "      <th>766</th>\n",
       "      <td>NaN</td>\n",
       "      <td>NaN</td>\n",
       "      <td>NaN</td>\n",
       "    </tr>\n",
       "    <tr>\n",
       "      <th>767</th>\n",
       "      <td>NaN</td>\n",
       "      <td>NaN</td>\n",
       "      <td>NaN</td>\n",
       "    </tr>\n",
       "  </tbody>\n",
       "</table>\n",
       "<p>768 rows × 3 columns</p>\n",
       "</div>"
      ],
      "text/plain": [
       "             Region  Frequency   Area\n",
       "0    Andhra Pradesh    Monthly  Rural\n",
       "1    Andhra Pradesh    Monthly  Rural\n",
       "2    Andhra Pradesh    Monthly  Rural\n",
       "3    Andhra Pradesh    Monthly  Rural\n",
       "4    Andhra Pradesh    Monthly  Rural\n",
       "..              ...        ...    ...\n",
       "763             NaN        NaN    NaN\n",
       "764             NaN        NaN    NaN\n",
       "765             NaN        NaN    NaN\n",
       "766             NaN        NaN    NaN\n",
       "767             NaN        NaN    NaN\n",
       "\n",
       "[768 rows x 3 columns]"
      ]
     },
     "execution_count": 56,
     "metadata": {},
     "output_type": "execute_result"
    }
   ],
   "source": [
    "object_data =data.select_dtypes(include = 'object')\n",
    "object_data"
   ]
  },
  {
   "cell_type": "code",
   "execution_count": 57,
   "id": "b10f478e",
   "metadata": {},
   "outputs": [
    {
     "data": {
      "application/vnd.microsoft.datawrangler.viewer.v0+json": {
       "columns": [
        {
         "name": "index",
         "rawType": "int64",
         "type": "integer"
        },
        {
         "name": "Region",
         "rawType": "object",
         "type": "string"
        },
        {
         "name": "count",
         "rawType": "int64",
         "type": "integer"
        }
       ],
       "ref": "279da4c6-79b3-4995-9445-8ca789fd5365",
       "rows": [
        [
         "0",
         "Andhra Pradesh",
         "28"
        ],
        [
         "1",
         "Kerala",
         "28"
        ],
        [
         "2",
         "West Bengal",
         "28"
        ],
        [
         "3",
         "Uttar Pradesh",
         "28"
        ],
        [
         "4",
         "Tripura",
         "28"
        ],
        [
         "5",
         "Telangana",
         "28"
        ],
        [
         "6",
         "Tamil Nadu",
         "28"
        ],
        [
         "7",
         "Rajasthan",
         "28"
        ],
        [
         "8",
         "Punjab",
         "28"
        ],
        [
         "9",
         "Odisha",
         "28"
        ],
        [
         "10",
         "Madhya Pradesh",
         "28"
        ],
        [
         "11",
         "Maharashtra",
         "28"
        ],
        [
         "12",
         "Karnataka",
         "28"
        ],
        [
         "13",
         "Jharkhand",
         "28"
        ],
        [
         "14",
         "Himachal Pradesh",
         "28"
        ],
        [
         "15",
         "Haryana",
         "28"
        ],
        [
         "16",
         "Gujarat",
         "28"
        ],
        [
         "17",
         "Delhi",
         "28"
        ],
        [
         "18",
         "Chhattisgarh",
         "28"
        ],
        [
         "19",
         "Bihar",
         "28"
        ],
        [
         "20",
         "Meghalaya",
         "27"
        ],
        [
         "21",
         "Uttarakhand",
         "27"
        ],
        [
         "22",
         "Assam",
         "26"
        ],
        [
         "23",
         "Puducherry",
         "26"
        ],
        [
         "24",
         "Goa",
         "24"
        ],
        [
         "25",
         "Jammu & Kashmir",
         "21"
        ],
        [
         "26",
         "Sikkim",
         "17"
        ],
        [
         "27",
         "Chandigarh",
         "12"
        ]
       ],
       "shape": {
        "columns": 2,
        "rows": 28
       }
      },
      "text/html": [
       "<div>\n",
       "<style scoped>\n",
       "    .dataframe tbody tr th:only-of-type {\n",
       "        vertical-align: middle;\n",
       "    }\n",
       "\n",
       "    .dataframe tbody tr th {\n",
       "        vertical-align: top;\n",
       "    }\n",
       "\n",
       "    .dataframe thead th {\n",
       "        text-align: right;\n",
       "    }\n",
       "</style>\n",
       "<table border=\"1\" class=\"dataframe\">\n",
       "  <thead>\n",
       "    <tr style=\"text-align: right;\">\n",
       "      <th></th>\n",
       "      <th>Region</th>\n",
       "      <th>count</th>\n",
       "    </tr>\n",
       "  </thead>\n",
       "  <tbody>\n",
       "    <tr>\n",
       "      <th>0</th>\n",
       "      <td>Andhra Pradesh</td>\n",
       "      <td>28</td>\n",
       "    </tr>\n",
       "    <tr>\n",
       "      <th>1</th>\n",
       "      <td>Kerala</td>\n",
       "      <td>28</td>\n",
       "    </tr>\n",
       "    <tr>\n",
       "      <th>2</th>\n",
       "      <td>West Bengal</td>\n",
       "      <td>28</td>\n",
       "    </tr>\n",
       "    <tr>\n",
       "      <th>3</th>\n",
       "      <td>Uttar Pradesh</td>\n",
       "      <td>28</td>\n",
       "    </tr>\n",
       "    <tr>\n",
       "      <th>4</th>\n",
       "      <td>Tripura</td>\n",
       "      <td>28</td>\n",
       "    </tr>\n",
       "    <tr>\n",
       "      <th>5</th>\n",
       "      <td>Telangana</td>\n",
       "      <td>28</td>\n",
       "    </tr>\n",
       "    <tr>\n",
       "      <th>6</th>\n",
       "      <td>Tamil Nadu</td>\n",
       "      <td>28</td>\n",
       "    </tr>\n",
       "    <tr>\n",
       "      <th>7</th>\n",
       "      <td>Rajasthan</td>\n",
       "      <td>28</td>\n",
       "    </tr>\n",
       "    <tr>\n",
       "      <th>8</th>\n",
       "      <td>Punjab</td>\n",
       "      <td>28</td>\n",
       "    </tr>\n",
       "    <tr>\n",
       "      <th>9</th>\n",
       "      <td>Odisha</td>\n",
       "      <td>28</td>\n",
       "    </tr>\n",
       "    <tr>\n",
       "      <th>10</th>\n",
       "      <td>Madhya Pradesh</td>\n",
       "      <td>28</td>\n",
       "    </tr>\n",
       "    <tr>\n",
       "      <th>11</th>\n",
       "      <td>Maharashtra</td>\n",
       "      <td>28</td>\n",
       "    </tr>\n",
       "    <tr>\n",
       "      <th>12</th>\n",
       "      <td>Karnataka</td>\n",
       "      <td>28</td>\n",
       "    </tr>\n",
       "    <tr>\n",
       "      <th>13</th>\n",
       "      <td>Jharkhand</td>\n",
       "      <td>28</td>\n",
       "    </tr>\n",
       "    <tr>\n",
       "      <th>14</th>\n",
       "      <td>Himachal Pradesh</td>\n",
       "      <td>28</td>\n",
       "    </tr>\n",
       "    <tr>\n",
       "      <th>15</th>\n",
       "      <td>Haryana</td>\n",
       "      <td>28</td>\n",
       "    </tr>\n",
       "    <tr>\n",
       "      <th>16</th>\n",
       "      <td>Gujarat</td>\n",
       "      <td>28</td>\n",
       "    </tr>\n",
       "    <tr>\n",
       "      <th>17</th>\n",
       "      <td>Delhi</td>\n",
       "      <td>28</td>\n",
       "    </tr>\n",
       "    <tr>\n",
       "      <th>18</th>\n",
       "      <td>Chhattisgarh</td>\n",
       "      <td>28</td>\n",
       "    </tr>\n",
       "    <tr>\n",
       "      <th>19</th>\n",
       "      <td>Bihar</td>\n",
       "      <td>28</td>\n",
       "    </tr>\n",
       "    <tr>\n",
       "      <th>20</th>\n",
       "      <td>Meghalaya</td>\n",
       "      <td>27</td>\n",
       "    </tr>\n",
       "    <tr>\n",
       "      <th>21</th>\n",
       "      <td>Uttarakhand</td>\n",
       "      <td>27</td>\n",
       "    </tr>\n",
       "    <tr>\n",
       "      <th>22</th>\n",
       "      <td>Assam</td>\n",
       "      <td>26</td>\n",
       "    </tr>\n",
       "    <tr>\n",
       "      <th>23</th>\n",
       "      <td>Puducherry</td>\n",
       "      <td>26</td>\n",
       "    </tr>\n",
       "    <tr>\n",
       "      <th>24</th>\n",
       "      <td>Goa</td>\n",
       "      <td>24</td>\n",
       "    </tr>\n",
       "    <tr>\n",
       "      <th>25</th>\n",
       "      <td>Jammu &amp; Kashmir</td>\n",
       "      <td>21</td>\n",
       "    </tr>\n",
       "    <tr>\n",
       "      <th>26</th>\n",
       "      <td>Sikkim</td>\n",
       "      <td>17</td>\n",
       "    </tr>\n",
       "    <tr>\n",
       "      <th>27</th>\n",
       "      <td>Chandigarh</td>\n",
       "      <td>12</td>\n",
       "    </tr>\n",
       "  </tbody>\n",
       "</table>\n",
       "</div>"
      ],
      "text/plain": [
       "              Region  count\n",
       "0     Andhra Pradesh     28\n",
       "1             Kerala     28\n",
       "2        West Bengal     28\n",
       "3      Uttar Pradesh     28\n",
       "4            Tripura     28\n",
       "5          Telangana     28\n",
       "6         Tamil Nadu     28\n",
       "7          Rajasthan     28\n",
       "8             Punjab     28\n",
       "9             Odisha     28\n",
       "10    Madhya Pradesh     28\n",
       "11       Maharashtra     28\n",
       "12         Karnataka     28\n",
       "13         Jharkhand     28\n",
       "14  Himachal Pradesh     28\n",
       "15           Haryana     28\n",
       "16           Gujarat     28\n",
       "17             Delhi     28\n",
       "18      Chhattisgarh     28\n",
       "19             Bihar     28\n",
       "20         Meghalaya     27\n",
       "21       Uttarakhand     27\n",
       "22             Assam     26\n",
       "23        Puducherry     26\n",
       "24               Goa     24\n",
       "25   Jammu & Kashmir     21\n",
       "26            Sikkim     17\n",
       "27        Chandigarh     12"
      ]
     },
     "metadata": {},
     "output_type": "display_data"
    },
    {
     "data": {
      "image/png": "[encoded data removed]",
      "text/plain": [
       "<Figure size 800x400 with 1 Axes>"
      ]
     },
     "metadata": {},
     "output_type": "display_data"
    },
    {
     "data": {
      "application/vnd.microsoft.datawrangler.viewer.v0+json": {
       "columns": [
        {
         "name": "index",
         "rawType": "int64",
         "type": "integer"
        },
        {
         "name": " Frequency",
         "rawType": "object",
         "type": "string"
        },
        {
         "name": "count",
         "rawType": "int64",
         "type": "integer"
        }
       ],
       "ref": "7e3a555a-f58d-474c-bf50-565cb6b696f4",
       "rows": [
        [
         "0",
         "Monthly",
         "381"
        ],
        [
         "1",
         " Monthly",
         "359"
        ]
       ],
       "shape": {
        "columns": 2,
        "rows": 2
       }
      },
      "text/html": [
       "<div>\n",
       "<style scoped>\n",
       "    .dataframe tbody tr th:only-of-type {\n",
       "        vertical-align: middle;\n",
       "    }\n",
       "\n",
       "    .dataframe tbody tr th {\n",
       "        vertical-align: top;\n",
       "    }\n",
       "\n",
       "    .dataframe thead th {\n",
       "        text-align: right;\n",
       "    }\n",
       "</style>\n",
       "<table border=\"1\" class=\"dataframe\">\n",
       "  <thead>\n",
       "    <tr style=\"text-align: right;\">\n",
       "      <th></th>\n",
       "      <th>Frequency</th>\n",
       "      <th>count</th>\n",
       "    </tr>\n",
       "  </thead>\n",
       "  <tbody>\n",
       "    <tr>\n",
       "      <th>0</th>\n",
       "      <td>Monthly</td>\n",
       "      <td>381</td>\n",
       "    </tr>\n",
       "    <tr>\n",
       "      <th>1</th>\n",
       "      <td>Monthly</td>\n",
       "      <td>359</td>\n",
       "    </tr>\n",
       "  </tbody>\n",
       "</table>\n",
       "</div>"
      ],
      "text/plain": [
       "   Frequency  count\n",
       "0    Monthly    381\n",
       "1    Monthly    359"
      ]
     },
     "metadata": {},
     "output_type": "display_data"
    },
    {
     "data": {
      "text/plain": [
       "<Figure size 640x480 with 0 Axes>"
      ]
     },
     "metadata": {},
     "output_type": "display_data"
    },
    {
     "data": {
      "image/png": "[encoded data removed]",
      "text/plain": [
       "<Figure size 800x400 with 1 Axes>"
      ]
     },
     "metadata": {},
     "output_type": "display_data"
    },
    {
     "data": {
      "application/vnd.microsoft.datawrangler.viewer.v0+json": {
       "columns": [
        {
         "name": "index",
         "rawType": "int64",
         "type": "integer"
        },
        {
         "name": "Area",
         "rawType": "object",
         "type": "string"
        },
        {
         "name": "count",
         "rawType": "int64",
         "type": "integer"
        }
       ],
       "ref": "348c71e2-fd8c-4a53-97fb-3aae0c7108d1",
       "rows": [
        [
         "0",
         "Urban",
         "381"
        ],
        [
         "1",
         "Rural",
         "359"
        ]
       ],
       "shape": {
        "columns": 2,
        "rows": 2
       }
      },
      "text/html": [
       "<div>\n",
       "<style scoped>\n",
       "    .dataframe tbody tr th:only-of-type {\n",
       "        vertical-align: middle;\n",
       "    }\n",
       "\n",
       "    .dataframe tbody tr th {\n",
       "        vertical-align: top;\n",
       "    }\n",
       "\n",
       "    .dataframe thead th {\n",
       "        text-align: right;\n",
       "    }\n",
       "</style>\n",
       "<table border=\"1\" class=\"dataframe\">\n",
       "  <thead>\n",
       "    <tr style=\"text-align: right;\">\n",
       "      <th></th>\n",
       "      <th>Area</th>\n",
       "      <th>count</th>\n",
       "    </tr>\n",
       "  </thead>\n",
       "  <tbody>\n",
       "    <tr>\n",
       "      <th>0</th>\n",
       "      <td>Urban</td>\n",
       "      <td>381</td>\n",
       "    </tr>\n",
       "    <tr>\n",
       "      <th>1</th>\n",
       "      <td>Rural</td>\n",
       "      <td>359</td>\n",
       "    </tr>\n",
       "  </tbody>\n",
       "</table>\n",
       "</div>"
      ],
      "text/plain": [
       "    Area  count\n",
       "0  Urban    381\n",
       "1  Rural    359"
      ]
     },
     "metadata": {},
     "output_type": "display_data"
    },
    {
     "data": {
      "text/plain": [
       "<Figure size 640x480 with 0 Axes>"
      ]
     },
     "metadata": {},
     "output_type": "display_data"
    },
    {
     "data": {
      "image/png": "[encoded data removed]",
      "text/plain": [
       "<Figure size 800x400 with 1 Axes>"
      ]
     },
     "metadata": {},
     "output_type": "display_data"
    },
    {
     "data": {
      "text/plain": [
       "<Figure size 640x480 with 0 Axes>"
      ]
     },
     "metadata": {},
     "output_type": "display_data"
    }
   ],
   "source": [
    "object_data = data.select_dtypes(include='object')\n",
    "\n",
    "def Visualize(col, df):\n",
    "    plt.figure(figsize=(8,4))\n",
    "    sns.countplot(y=col, data=df, order=df[col].value_counts().index[:10], palette='viridis')\n",
    "    plt.title(f\"Count of {col}\")\n",
    "    plt.xlabel(\"Count\")\n",
    "    plt.ylabel(col)\n",
    "    plt.tight_layout()\n",
    "    plt.show()\n",
    "    plt.clf()\n",
    "\n",
    "for i, column in enumerate(object_data.columns):\n",
    "    if i > 4:  # avoid overloading Jupyter\n",
    "        break\n",
    "    display(data[column].value_counts().reset_index())\n",
    "    Visualize(column, data)\n"
   ]
  },
  {
   "cell_type": "code",
   "execution_count": 58,
   "id": "e408798d",
   "metadata": {},
   "outputs": [
    {
     "data": {
      "application/vnd.microsoft.datawrangler.viewer.v0+json": {
       "columns": [
        {
         "name": "index",
         "rawType": "int64",
         "type": "integer"
        },
        {
         "name": " Estimated Unemployment Rate (%)",
         "rawType": "float64",
         "type": "float"
        },
        {
         "name": " Estimated Employed",
         "rawType": "float64",
         "type": "float"
        },
        {
         "name": " Estimated Labour Participation Rate (%)",
         "rawType": "float64",
         "type": "float"
        },
        {
         "name": "Date",
         "rawType": "datetime64[ns]",
         "type": "datetime"
        }
       ],
       "ref": "8da56991-4458-4f43-aeba-031c54832d81",
       "rows": [
        [
         "0",
         "3.65",
         "11999139.0",
         "43.24",
         "2019-05-31 00:00:00"
        ],
        [
         "1",
         "3.05",
         "11755881.0",
         "42.05",
         "2019-06-30 00:00:00"
        ],
        [
         "2",
         "3.75",
         "12086707.0",
         "43.5",
         "2019-07-31 00:00:00"
        ],
        [
         "3",
         "3.32",
         "12285693.0",
         "43.97",
         "2019-08-31 00:00:00"
        ],
        [
         "4",
         "5.17",
         "12256762.0",
         "44.68",
         "2019-09-30 00:00:00"
        ],
        [
         "5",
         "3.52",
         "12017412.0",
         "43.01",
         "2019-10-31 00:00:00"
        ],
        [
         "6",
         "4.12",
         "11397681.0",
         "41.0",
         "2019-11-30 00:00:00"
        ],
        [
         "7",
         "4.38",
         "12528395.0",
         "45.14",
         "2019-12-31 00:00:00"
        ],
        [
         "8",
         "4.84",
         "12016676.0",
         "43.46",
         "2020-01-31 00:00:00"
        ],
        [
         "9",
         "5.91",
         "11723617.0",
         "42.83",
         "2020-02-29 00:00:00"
        ],
        [
         "10",
         "4.06",
         "11359660.0",
         "40.66",
         "2020-03-31 00:00:00"
        ],
        [
         "11",
         "16.29",
         "8792827.0",
         "36.03",
         "2020-04-30 00:00:00"
        ],
        [
         "12",
         "14.46",
         "9526902.0",
         "38.16",
         "2020-05-31 00:00:00"
        ],
        [
         "13",
         "0.85",
         "15572975.0",
         "53.76",
         "2020-06-30 00:00:00"
        ],
        [
         "14",
         "4.29",
         "11749334.0",
         "57.39",
         "2019-05-31 00:00:00"
        ],
        [
         "15",
         "5.08",
         "8923222.0",
         "43.87",
         "2019-06-30 00:00:00"
        ],
        [
         "16",
         "4.26",
         "9911534.0",
         "48.21",
         "2019-07-31 00:00:00"
        ],
        [
         "17",
         "5.79",
         "9292039.0",
         "45.83",
         "2019-08-31 00:00:00"
        ],
        [
         "18",
         "4.46",
         "11468349.0",
         "55.67",
         "2019-09-30 00:00:00"
        ],
        [
         "19",
         "4.65",
         "8395906.0",
         "40.76",
         "2019-10-31 00:00:00"
        ],
        [
         "20",
         "4.66",
         "9625362.0",
         "46.64",
         "2019-11-30 00:00:00"
        ],
        [
         "21",
         "4.29",
         "11420996.0",
         "54.9",
         "2020-01-31 00:00:00"
        ],
        [
         "22",
         "3.26",
         "8462814.0",
         "40.17",
         "2020-02-29 00:00:00"
        ],
        [
         "23",
         "3.77",
         "9878742.0",
         "47.05",
         "2020-03-31 00:00:00"
        ],
        [
         "24",
         "9.38",
         "9926176.0",
         "50.0",
         "2020-05-31 00:00:00"
        ],
        [
         "25",
         "0.0",
         "7544937.0",
         "34.38",
         "2020-06-30 00:00:00"
        ],
        [
         "26",
         "9.27",
         "24322330.0",
         "39.75",
         "2019-05-31 00:00:00"
        ],
        [
         "27",
         "10.2",
         "24097712.0",
         "39.71",
         "2019-06-30 00:00:00"
        ],
        [
         "28",
         "13.44",
         "23248875.0",
         "39.66",
         "2019-07-31 00:00:00"
        ],
        [
         "29",
         "11.0",
         "22260203.0",
         "36.85",
         "2019-08-31 00:00:00"
        ],
        [
         "30",
         "8.87",
         "23905700.0",
         "38.57",
         "2019-09-30 00:00:00"
        ],
        [
         "31",
         "12.47",
         "24053140.0",
         "40.31",
         "2019-10-31 00:00:00"
        ],
        [
         "32",
         "12.4",
         "22445989.0",
         "37.51",
         "2019-11-30 00:00:00"
        ],
        [
         "33",
         "10.16",
         "22914530.0",
         "37.25",
         "2019-12-31 00:00:00"
        ],
        [
         "34",
         "9.13",
         "23409006.0",
         "37.54",
         "2020-01-31 00:00:00"
        ],
        [
         "35",
         "9.61",
         "23168192.0",
         "37.28",
         "2020-02-29 00:00:00"
        ],
        [
         "36",
         "15.39",
         "22667882.0",
         "38.88",
         "2020-03-31 00:00:00"
        ],
        [
         "37",
         "45.09",
         "14645275.0",
         "38.63",
         "2020-04-30 00:00:00"
        ],
        [
         "38",
         "47.26",
         "14050319.0",
         "38.5",
         "2020-05-31 00:00:00"
        ],
        [
         "39",
         "20.49",
         "20622566.0",
         "37.4",
         "2020-06-30 00:00:00"
        ],
        [
         "40",
         "9.82",
         "6259019.0",
         "42.89",
         "2019-05-31 00:00:00"
        ],
        [
         "41",
         "6.76",
         "6608626.0",
         "43.71",
         "2019-06-30 00:00:00"
        ],
        [
         "42",
         "4.54",
         "6753622.0",
         "43.53",
         "2019-07-31 00:00:00"
        ],
        [
         "43",
         "4.64",
         "6607694.0",
         "42.55",
         "2019-08-31 00:00:00"
        ],
        [
         "44",
         "8.33",
         "6490776.0",
         "43.38",
         "2019-09-30 00:00:00"
        ],
        [
         "45",
         "6.96",
         "7043840.0",
         "46.28",
         "2019-10-31 00:00:00"
        ],
        [
         "46",
         "2.77",
         "6942931.0",
         "43.56",
         "2019-11-30 00:00:00"
        ],
        [
         "47",
         "6.11",
         "6569385.0",
         "42.59",
         "2019-12-31 00:00:00"
        ],
        [
         "48",
         "9.89",
         "6236201.0",
         "42.03",
         "2020-01-31 00:00:00"
        ],
        [
         "49",
         "7.89",
         "6847173.0",
         "45.05",
         "2020-02-29 00:00:00"
        ]
       ],
       "shape": {
        "columns": 4,
        "rows": 768
       }
      },
      "text/html": [
       "<div>\n",
       "<style scoped>\n",
       "    .dataframe tbody tr th:only-of-type {\n",
       "        vertical-align: middle;\n",
       "    }\n",
       "\n",
       "    .dataframe tbody tr th {\n",
       "        vertical-align: top;\n",
       "    }\n",
       "\n",
       "    .dataframe thead th {\n",
       "        text-align: right;\n",
       "    }\n",
       "</style>\n",
       "<table border=\"1\" class=\"dataframe\">\n",
       "  <thead>\n",
       "    <tr style=\"text-align: right;\">\n",
       "      <th></th>\n",
       "      <th>Estimated Unemployment Rate (%)</th>\n",
       "      <th>Estimated Employed</th>\n",
       "      <th>Estimated Labour Participation Rate (%)</th>\n",
       "      <th>Date</th>\n",
       "    </tr>\n",
       "  </thead>\n",
       "  <tbody>\n",
       "    <tr>\n",
       "      <th>0</th>\n",
       "      <td>3.65</td>\n",
       "      <td>11999139.0</td>\n",
       "      <td>43.24</td>\n",
       "      <td>2019-05-31</td>\n",
       "    </tr>\n",
       "    <tr>\n",
       "      <th>1</th>\n",
       "      <td>3.05</td>\n",
       "      <td>11755881.0</td>\n",
       "      <td>42.05</td>\n",
       "      <td>2019-06-30</td>\n",
       "    </tr>\n",
       "    <tr>\n",
       "      <th>2</th>\n",
       "      <td>3.75</td>\n",
       "      <td>12086707.0</td>\n",
       "      <td>43.50</td>\n",
       "      <td>2019-07-31</td>\n",
       "    </tr>\n",
       "    <tr>\n",
       "      <th>3</th>\n",
       "      <td>3.32</td>\n",
       "      <td>12285693.0</td>\n",
       "      <td>43.97</td>\n",
       "      <td>2019-08-31</td>\n",
       "    </tr>\n",
       "    <tr>\n",
       "      <th>4</th>\n",
       "      <td>5.17</td>\n",
       "      <td>12256762.0</td>\n",
       "      <td>44.68</td>\n",
       "      <td>2019-09-30</td>\n",
       "    </tr>\n",
       "    <tr>\n",
       "      <th>...</th>\n",
       "      <td>...</td>\n",
       "      <td>...</td>\n",
       "      <td>...</td>\n",
       "      <td>...</td>\n",
       "    </tr>\n",
       "    <tr>\n",
       "      <th>763</th>\n",
       "      <td>NaN</td>\n",
       "      <td>NaN</td>\n",
       "      <td>NaN</td>\n",
       "      <td>NaT</td>\n",
       "    </tr>\n",
       "    <tr>\n",
       "      <th>764</th>\n",
       "      <td>NaN</td>\n",
       "      <td>NaN</td>\n",
       "      <td>NaN</td>\n",
       "      <td>NaT</td>\n",
       "    </tr>\n",
       "    <tr>\n",
       "      <th>765</th>\n",
       "      <td>NaN</td>\n",
       "      <td>NaN</td>\n",
       "      <td>NaN</td>\n",
       "      <td>NaT</td>\n",
       "    </tr>\n",
       "    <tr>\n",
       "      <th>766</th>\n",
       "      <td>NaN</td>\n",
       "      <td>NaN</td>\n",
       "      <td>NaN</td>\n",
       "      <td>NaT</td>\n",
       "    </tr>\n",
       "    <tr>\n",
       "      <th>767</th>\n",
       "      <td>NaN</td>\n",
       "      <td>NaN</td>\n",
       "      <td>NaN</td>\n",
       "      <td>NaT</td>\n",
       "    </tr>\n",
       "  </tbody>\n",
       "</table>\n",
       "<p>768 rows × 4 columns</p>\n",
       "</div>"
      ],
      "text/plain": [
       "      Estimated Unemployment Rate (%)   Estimated Employed  \\\n",
       "0                                3.65           11999139.0   \n",
       "1                                3.05           11755881.0   \n",
       "2                                3.75           12086707.0   \n",
       "3                                3.32           12285693.0   \n",
       "4                                5.17           12256762.0   \n",
       "..                                ...                  ...   \n",
       "763                               NaN                  NaN   \n",
       "764                               NaN                  NaN   \n",
       "765                               NaN                  NaN   \n",
       "766                               NaN                  NaN   \n",
       "767                               NaN                  NaN   \n",
       "\n",
       "      Estimated Labour Participation Rate (%)       Date  \n",
       "0                                       43.24 2019-05-31  \n",
       "1                                       42.05 2019-06-30  \n",
       "2                                       43.50 2019-07-31  \n",
       "3                                       43.97 2019-08-31  \n",
       "4                                       44.68 2019-09-30  \n",
       "..                                        ...        ...  \n",
       "763                                       NaN        NaT  \n",
       "764                                       NaN        NaT  \n",
       "765                                       NaN        NaT  \n",
       "766                                       NaN        NaT  \n",
       "767                                       NaN        NaT  \n",
       "\n",
       "[768 rows x 4 columns]"
      ]
     },
     "execution_count": 58,
     "metadata": {},
     "output_type": "execute_result"
    }
   ],
   "source": [
    "numeric_data =data.select_dtypes(exclude = 'object')\n",
    "numeric_data"
   ]
  },
  {
   "cell_type": "code",
   "execution_count": 59,
   "id": "7d4872b9",
   "metadata": {},
   "outputs": [
    {
     "data": {
      "image/png": "[encoded data removed]",
      "text/plain": [
       "<Figure size 800x800 with 2 Axes>"
      ]
     },
     "metadata": {},
     "output_type": "display_data"
    }
   ],
   "source": [
    "plt.figure(figsize=(8,8))\n",
    "sns.heatmap(numeric_data.corr(), annot=True)\n",
    "plt.title(\"Correlation \")\n",
    "plt.show()"
   ]
  },
  {
   "cell_type": "code",
   "execution_count": 60,
   "id": "07445886",
   "metadata": {},
   "outputs": [
    {
     "data": {
      "text/plain": [
       "<seaborn.axisgrid.PairGrid at 0x1e5a22ed190>"
      ]
     },
     "execution_count": 60,
     "metadata": {},
     "output_type": "execute_result"
    },
    {
     "data": {
      "image/png": "[encoded data removed]",
      "text/plain": [
       "<Figure size 750x750 with 12 Axes>"
      ]
     },
     "metadata": {},
     "output_type": "display_data"
    }
   ],
   "source": [
    "sns.pairplot(data)"
   ]
  },
  {
   "cell_type": "code",
   "execution_count": 61,
   "id": "2d8b47bc",
   "metadata": {},
   "outputs": [
    {
     "data": {
      "text/plain": [
       "Index(['Region', ' Frequency', ' Estimated Unemployment Rate (%)',\n",
       "       ' Estimated Employed', ' Estimated Labour Participation Rate (%)',\n",
       "       'Area', 'Date'],\n",
       "      dtype='object')"
      ]
     },
     "execution_count": 61,
     "metadata": {},
     "output_type": "execute_result"
    }
   ],
   "source": [
    "data.columns"
   ]
  },
  {
   "cell_type": "code",
   "execution_count": 62,
   "id": "0bfd3238",
   "metadata": {},
   "outputs": [
    {
     "data": {
      "application/vnd.microsoft.datawrangler.viewer.v0+json": {
       "columns": [
        {
         "name": "index",
         "rawType": "int64",
         "type": "integer"
        },
        {
         "name": "Region",
         "rawType": "object",
         "type": "string"
        },
        {
         "name": " Frequency",
         "rawType": "object",
         "type": "string"
        },
        {
         "name": " Estimated Unemployment Rate (%)",
         "rawType": "float64",
         "type": "float"
        },
        {
         "name": "Date",
         "rawType": "datetime64[ns]",
         "type": "datetime"
        },
        {
         "name": "count",
         "rawType": "int64",
         "type": "integer"
        }
       ],
       "ref": "df1bd002-bd6f-48ae-8619-e04403cb9cc1",
       "rows": [
        [
         "0",
         "Andhra Pradesh",
         " Monthly",
         "0.85",
         "2020-06-30 00:00:00",
         "1"
        ],
        [
         "1",
         "Andhra Pradesh",
         " Monthly",
         "3.05",
         "2019-06-30 00:00:00",
         "1"
        ],
        [
         "2",
         "Andhra Pradesh",
         " Monthly",
         "3.32",
         "2019-08-31 00:00:00",
         "1"
        ],
        [
         "3",
         "Andhra Pradesh",
         " Monthly",
         "3.52",
         "2019-10-31 00:00:00",
         "1"
        ],
        [
         "4",
         "Andhra Pradesh",
         " Monthly",
         "3.65",
         "2019-05-31 00:00:00",
         "1"
        ],
        [
         "5",
         "Andhra Pradesh",
         " Monthly",
         "3.75",
         "2019-07-31 00:00:00",
         "1"
        ],
        [
         "6",
         "Andhra Pradesh",
         " Monthly",
         "4.06",
         "2020-03-31 00:00:00",
         "1"
        ],
        [
         "7",
         "Andhra Pradesh",
         " Monthly",
         "4.12",
         "2019-11-30 00:00:00",
         "1"
        ],
        [
         "8",
         "Andhra Pradesh",
         " Monthly",
         "4.38",
         "2019-12-31 00:00:00",
         "1"
        ],
        [
         "9",
         "Andhra Pradesh",
         " Monthly",
         "4.84",
         "2020-01-31 00:00:00",
         "1"
        ],
        [
         "10",
         "Andhra Pradesh",
         " Monthly",
         "5.17",
         "2019-09-30 00:00:00",
         "1"
        ],
        [
         "11",
         "Andhra Pradesh",
         " Monthly",
         "5.91",
         "2020-02-29 00:00:00",
         "1"
        ],
        [
         "12",
         "Andhra Pradesh",
         " Monthly",
         "14.46",
         "2020-05-31 00:00:00",
         "1"
        ],
        [
         "13",
         "Andhra Pradesh",
         " Monthly",
         "16.29",
         "2020-04-30 00:00:00",
         "1"
        ],
        [
         "14",
         "Andhra Pradesh",
         "Monthly",
         "3.8",
         "2019-06-30 00:00:00",
         "1"
        ],
        [
         "15",
         "Andhra Pradesh",
         "Monthly",
         "4.61",
         "2019-08-31 00:00:00",
         "1"
        ],
        [
         "16",
         "Andhra Pradesh",
         "Monthly",
         "4.7",
         "2019-10-31 00:00:00",
         "1"
        ],
        [
         "17",
         "Andhra Pradesh",
         "Monthly",
         "5.64",
         "2019-07-31 00:00:00",
         "1"
        ],
        [
         "18",
         "Andhra Pradesh",
         "Monthly",
         "5.66",
         "2020-02-29 00:00:00",
         "1"
        ],
        [
         "19",
         "Andhra Pradesh",
         "Monthly",
         "5.86",
         "2020-06-30 00:00:00",
         "1"
        ],
        [
         "20",
         "Andhra Pradesh",
         "Monthly",
         "6.01",
         "2019-09-30 00:00:00",
         "1"
        ],
        [
         "21",
         "Andhra Pradesh",
         "Monthly",
         "6.09",
         "2019-05-31 00:00:00",
         "1"
        ],
        [
         "22",
         "Andhra Pradesh",
         "Monthly",
         "7.11",
         "2020-01-31 00:00:00",
         "1"
        ],
        [
         "23",
         "Andhra Pradesh",
         "Monthly",
         "7.54",
         "2019-11-30 00:00:00",
         "1"
        ],
        [
         "24",
         "Andhra Pradesh",
         "Monthly",
         "7.88",
         "2019-12-31 00:00:00",
         "1"
        ],
        [
         "25",
         "Andhra Pradesh",
         "Monthly",
         "9.88",
         "2020-03-31 00:00:00",
         "1"
        ],
        [
         "26",
         "Andhra Pradesh",
         "Monthly",
         "24.91",
         "2020-05-31 00:00:00",
         "1"
        ],
        [
         "27",
         "Andhra Pradesh",
         "Monthly",
         "32.3",
         "2020-04-30 00:00:00",
         "1"
        ],
        [
         "28",
         "Assam",
         " Monthly",
         "0.0",
         "2020-06-30 00:00:00",
         "1"
        ],
        [
         "29",
         "Assam",
         " Monthly",
         "3.26",
         "2020-02-29 00:00:00",
         "1"
        ],
        [
         "30",
         "Assam",
         " Monthly",
         "3.77",
         "2020-03-31 00:00:00",
         "1"
        ],
        [
         "31",
         "Assam",
         " Monthly",
         "4.26",
         "2019-07-31 00:00:00",
         "1"
        ],
        [
         "32",
         "Assam",
         " Monthly",
         "4.29",
         "2019-05-31 00:00:00",
         "1"
        ],
        [
         "33",
         "Assam",
         " Monthly",
         "4.29",
         "2020-01-31 00:00:00",
         "1"
        ],
        [
         "34",
         "Assam",
         " Monthly",
         "4.46",
         "2019-09-30 00:00:00",
         "1"
        ],
        [
         "35",
         "Assam",
         " Monthly",
         "4.65",
         "2019-10-31 00:00:00",
         "1"
        ],
        [
         "36",
         "Assam",
         " Monthly",
         "4.66",
         "2019-11-30 00:00:00",
         "1"
        ],
        [
         "37",
         "Assam",
         " Monthly",
         "5.08",
         "2019-06-30 00:00:00",
         "1"
        ],
        [
         "38",
         "Assam",
         " Monthly",
         "5.79",
         "2019-08-31 00:00:00",
         "1"
        ],
        [
         "39",
         "Assam",
         " Monthly",
         "9.38",
         "2020-05-31 00:00:00",
         "1"
        ],
        [
         "40",
         "Assam",
         "Monthly",
         "3.21",
         "2019-07-31 00:00:00",
         "1"
        ],
        [
         "41",
         "Assam",
         "Monthly",
         "3.42",
         "2020-06-30 00:00:00",
         "1"
        ],
        [
         "42",
         "Assam",
         "Monthly",
         "5.02",
         "2019-12-31 00:00:00",
         "1"
        ],
        [
         "43",
         "Assam",
         "Monthly",
         "6.31",
         "2019-11-30 00:00:00",
         "1"
        ],
        [
         "44",
         "Assam",
         "Monthly",
         "7.24",
         "2020-01-31 00:00:00",
         "1"
        ],
        [
         "45",
         "Assam",
         "Monthly",
         "7.87",
         "2019-05-31 00:00:00",
         "1"
        ],
        [
         "46",
         "Assam",
         "Monthly",
         "8.37",
         "2020-04-30 00:00:00",
         "1"
        ],
        [
         "47",
         "Assam",
         "Monthly",
         "9.26",
         "2019-09-30 00:00:00",
         "1"
        ],
        [
         "48",
         "Assam",
         "Monthly",
         "9.89",
         "2019-06-30 00:00:00",
         "1"
        ],
        [
         "49",
         "Assam",
         "Monthly",
         "9.98",
         "2020-02-29 00:00:00",
         "1"
        ]
       ],
       "shape": {
        "columns": 5,
        "rows": 740
       }
      },
      "text/html": [
       "<div>\n",
       "<style scoped>\n",
       "    .dataframe tbody tr th:only-of-type {\n",
       "        vertical-align: middle;\n",
       "    }\n",
       "\n",
       "    .dataframe tbody tr th {\n",
       "        vertical-align: top;\n",
       "    }\n",
       "\n",
       "    .dataframe thead th {\n",
       "        text-align: right;\n",
       "    }\n",
       "</style>\n",
       "<table border=\"1\" class=\"dataframe\">\n",
       "  <thead>\n",
       "    <tr style=\"text-align: right;\">\n",
       "      <th></th>\n",
       "      <th>Region</th>\n",
       "      <th>Frequency</th>\n",
       "      <th>Estimated Unemployment Rate (%)</th>\n",
       "      <th>Date</th>\n",
       "      <th>count</th>\n",
       "    </tr>\n",
       "  </thead>\n",
       "  <tbody>\n",
       "    <tr>\n",
       "      <th>0</th>\n",
       "      <td>Andhra Pradesh</td>\n",
       "      <td>Monthly</td>\n",
       "      <td>0.85</td>\n",
       "      <td>2020-06-30</td>\n",
       "      <td>1</td>\n",
       "    </tr>\n",
       "    <tr>\n",
       "      <th>1</th>\n",
       "      <td>Andhra Pradesh</td>\n",
       "      <td>Monthly</td>\n",
       "      <td>3.05</td>\n",
       "      <td>2019-06-30</td>\n",
       "      <td>1</td>\n",
       "    </tr>\n",
       "    <tr>\n",
       "      <th>2</th>\n",
       "      <td>Andhra Pradesh</td>\n",
       "      <td>Monthly</td>\n",
       "      <td>3.32</td>\n",
       "      <td>2019-08-31</td>\n",
       "      <td>1</td>\n",
       "    </tr>\n",
       "    <tr>\n",
       "      <th>3</th>\n",
       "      <td>Andhra Pradesh</td>\n",
       "      <td>Monthly</td>\n",
       "      <td>3.52</td>\n",
       "      <td>2019-10-31</td>\n",
       "      <td>1</td>\n",
       "    </tr>\n",
       "    <tr>\n",
       "      <th>4</th>\n",
       "      <td>Andhra Pradesh</td>\n",
       "      <td>Monthly</td>\n",
       "      <td>3.65</td>\n",
       "      <td>2019-05-31</td>\n",
       "      <td>1</td>\n",
       "    </tr>\n",
       "    <tr>\n",
       "      <th>...</th>\n",
       "      <td>...</td>\n",
       "      <td>...</td>\n",
       "      <td>...</td>\n",
       "      <td>...</td>\n",
       "      <td>...</td>\n",
       "    </tr>\n",
       "    <tr>\n",
       "      <th>735</th>\n",
       "      <td>West Bengal</td>\n",
       "      <td>Monthly</td>\n",
       "      <td>7.83</td>\n",
       "      <td>2019-10-31</td>\n",
       "      <td>1</td>\n",
       "    </tr>\n",
       "    <tr>\n",
       "      <th>736</th>\n",
       "      <td>West Bengal</td>\n",
       "      <td>Monthly</td>\n",
       "      <td>7.91</td>\n",
       "      <td>2019-07-31</td>\n",
       "      <td>1</td>\n",
       "    </tr>\n",
       "    <tr>\n",
       "      <th>737</th>\n",
       "      <td>West Bengal</td>\n",
       "      <td>Monthly</td>\n",
       "      <td>9.86</td>\n",
       "      <td>2020-06-30</td>\n",
       "      <td>1</td>\n",
       "    </tr>\n",
       "    <tr>\n",
       "      <th>738</th>\n",
       "      <td>West Bengal</td>\n",
       "      <td>Monthly</td>\n",
       "      <td>15.22</td>\n",
       "      <td>2020-05-31</td>\n",
       "      <td>1</td>\n",
       "    </tr>\n",
       "    <tr>\n",
       "      <th>739</th>\n",
       "      <td>West Bengal</td>\n",
       "      <td>Monthly</td>\n",
       "      <td>15.63</td>\n",
       "      <td>2020-04-30</td>\n",
       "      <td>1</td>\n",
       "    </tr>\n",
       "  </tbody>\n",
       "</table>\n",
       "<p>740 rows × 5 columns</p>\n",
       "</div>"
      ],
      "text/plain": [
       "             Region  Frequency   Estimated Unemployment Rate (%)       Date  \\\n",
       "0    Andhra Pradesh    Monthly                              0.85 2020-06-30   \n",
       "1    Andhra Pradesh    Monthly                              3.05 2019-06-30   \n",
       "2    Andhra Pradesh    Monthly                              3.32 2019-08-31   \n",
       "3    Andhra Pradesh    Monthly                              3.52 2019-10-31   \n",
       "4    Andhra Pradesh    Monthly                              3.65 2019-05-31   \n",
       "..              ...        ...                               ...        ...   \n",
       "735     West Bengal    Monthly                              7.83 2019-10-31   \n",
       "736     West Bengal    Monthly                              7.91 2019-07-31   \n",
       "737     West Bengal    Monthly                              9.86 2020-06-30   \n",
       "738     West Bengal    Monthly                             15.22 2020-05-31   \n",
       "739     West Bengal    Monthly                             15.63 2020-04-30   \n",
       "\n",
       "     count  \n",
       "0        1  \n",
       "1        1  \n",
       "2        1  \n",
       "3        1  \n",
       "4        1  \n",
       "..     ...  \n",
       "735      1  \n",
       "736      1  \n",
       "737      1  \n",
       "738      1  \n",
       "739      1  \n",
       "\n",
       "[740 rows x 5 columns]"
      ]
     },
     "execution_count": 62,
     "metadata": {},
     "output_type": "execute_result"
    }
   ],
   "source": [
    "data.groupby('Region')[[' Frequency', ' Estimated Unemployment Rate (%)','Date']].value_counts().reset_index()"
   ]
  }
 ],
 "metadata": {
  "kernelspec": {
   "display_name": "Python 3",
   "language": "python",
   "name": "python3"
  },
  "language_info": {
   "codemirror_mode": {
    "name": "ipython",
    "version": 3
   },
   "file_extension": ".py",
   "mimetype": "text/x-python",
   "name": "python",
   "nbconvert_exporter": "python",
   "pygments_lexer": "ipython3",
   "version": "3.12.5"
  }
 },
 "nbformat": 4,
 "nbformat_minor": 5
}
